{
 "cells": [
  {
   "cell_type": "code",
   "execution_count": 20,
   "metadata": {},
   "outputs": [],
   "source": [
    "import requests \n",
    "import json\n",
    "import pandas as pd"
   ]
  },
  {
   "cell_type": "code",
   "execution_count": 21,
   "metadata": {},
   "outputs": [],
   "source": [
    "from geopy.geocoders import Nominatim\n",
    "#geolocator = Nominatim(user_agent=\"user_agent\")"
   ]
  },
  {
   "cell_type": "code",
   "execution_count": 22,
   "metadata": {},
   "outputs": [],
   "source": [
    "response = requests.get(\"http://api.divesites.com\")"
   ]
  },
  {
   "cell_type": "code",
   "execution_count": 23,
   "metadata": {},
   "outputs": [
    {
     "name": "stdout",
     "output_type": "stream",
     "text": [
      "200\n"
     ]
    }
   ],
   "source": [
    "#checking if the data were readed correctly ('200' is the desired answer )\n",
    "\n",
    "status_code = response.status_code\n",
    "print(status_code)"
   ]
  },
  {
   "cell_type": "code",
   "execution_count": 24,
   "metadata": {},
   "outputs": [
    {
     "name": "stdout",
     "output_type": "stream",
     "text": [
      "<class 'dict'>\n",
      "{'request': {'str': None, 'timestamp': 1620253077, 'loc': {'city': 'Haifa', 'area_code': 0, 'postal_code': None, 'lat': 32.816, 'region_name': 'Hefa', 'country_code': 'IL', 'name': 'Haifa, Hefa IL', 'lng': 34.9821}, 'mode': 'sites', 'dist': 50, 'api': 1}, 'sites': [{'currents': None, 'distance': '36.36', 'hazards': None, 'lat': '32.3150', 'name': 'Cesaria', 'water': None, 'marinelife': None, 'description': None, 'maxdepth': None, 'mindepth': None, 'predive': None, 'id': '23199', 'equipment': None, 'lng': '34.7910'}, {'currents': None, 'distance': '37.05', 'hazards': None, 'lat': '33.3124', 'name': \"Sawan's Bay\", 'water': None, 'marinelife': None, 'description': None, 'maxdepth': None, 'mindepth': None, 'predive': None, 'id': '18917', 'equipment': None, 'lng': '35.2241'}], 'version': 1, 'loc': {'city': 'Haifa', 'area_code': 0, 'postal_code': None, 'lat': 32.816, 'region_name': 'Hefa', 'country_code': 'IL', 'name': 'Haifa, Hefa IL', 'lng': 34.9821}, 'result': True}\n"
     ]
    }
   ],
   "source": [
    "json_data = response.json()\n",
    "print(type(json_data))\n",
    "print(json_data)"
   ]
  },
  {
   "cell_type": "raw",
   "metadata": {},
   "source": [
    "{'request': \n",
    "\n",
    "    {'str': None,\n",
    "    'timestamp': 1618341244, \n",
    "    'loc': \n",
    "        {'city': 'Haifa', \n",
    "        'area_code': 0, '\n",
    "        postal_code': None, \n",
    "        'lat': 32.816, \n",
    "        'region_name': 'Hefa', \n",
    "        'country_code': 'IL', \n",
    "        'name': 'Haifa, Hefa IL', \n",
    "        'lng': 34.9821}, \n",
    "    'mode': 'sites', \n",
    "    'dist': 50, \n",
    "    'api': 1}, \n",
    "\n",
    "'sites': \n",
    "    [\n",
    "    {'currents': None, \n",
    "    'distance': '36.36', \n",
    "    'hazards': None, \n",
    "    'lat': '32.3150', \n",
    "    'name': 'Cesaria', \n",
    "    'water': None, \n",
    "    'marinelife': None, \n",
    "    'description': None, \n",
    "    'maxdepth': None, \n",
    "    'mindepth': None, \n",
    "    'predive': None, \n",
    "    'id': '23199', \n",
    "    'equipment': None, \n",
    "    'lng': '34.7910'}, \n",
    "\n",
    "    {'currents': None, \n",
    "    'distance': '37.05', \n",
    "    'hazards': None, \n",
    "    'lat': '33.3124', \n",
    "    'name': \"Sawan's Bay\", \n",
    "    'water': None, \n",
    "    'marinelife': None, \n",
    "    'description': None, \n",
    "    'maxdepth': None, \n",
    "    'mindepth': None, \n",
    "    'predive': None, \n",
    "    'id': '18917', \n",
    "    'equipment': None, \n",
    "    'lng': '35.2241'}\n",
    "    ],\n",
    "\n",
    "'version': 1,\n",
    "\n",
    "'loc': \n",
    "    {'city': 'Haifa', \n",
    "    'area_code': 0, \n",
    "    'postal_code': None, \n",
    "    'lat': 32.816, \n",
    "    'region_name': 'Hefa', \n",
    "    'country_code': 'IL', \n",
    "    'name': 'Haifa, Hefa IL', \n",
    "    'lng': 34.9821},\n",
    "\n",
    "'result': True}"
   ]
  },
  {
   "cell_type": "code",
   "execution_count": 25,
   "metadata": {},
   "outputs": [
    {
     "name": "stdin",
     "output_type": "stream",
     "text": [
      "Enter your desire dive city:  tel aviv\n"
     ]
    }
   ],
   "source": [
    "location = input(\"Enter your desire dive city: \")"
   ]
  },
  {
   "cell_type": "code",
   "execution_count": 26,
   "metadata": {},
   "outputs": [
    {
     "name": "stdin",
     "output_type": "stream",
     "text": [
      "Enter your radius (in km):  100\n"
     ]
    }
   ],
   "source": [
    "radius = float(input(\"Enter your radius (in km): \"))"
   ]
  },
  {
   "cell_type": "code",
   "execution_count": 27,
   "metadata": {},
   "outputs": [],
   "source": [
    "# get the lat and lng of the desire city\n",
    "\n",
    "location = geolocator.geocode(location)\n",
    "parameters = {\n",
    "    'lat': location.latitude,\n",
    "    'lng': location.longitude,\n",
    "    'dist': radius*0.53996\n",
    "}"
   ]
  },
  {
   "cell_type": "code",
   "execution_count": 28,
   "metadata": {},
   "outputs": [
    {
     "name": "stdout",
     "output_type": "stream",
     "text": [
      "the dive sites around 100.0 (km) of your place are:\n",
      "Cesaria\n"
     ]
    }
   ],
   "source": [
    "# get the lat and lng of the desire city\n",
    "\n",
    "response =  requests.get('http://api.divesites.com', params =  parameters)\n",
    "json_data = response.json()\n",
    "print ('the dive sites around' ,radius, '(km) of your place are:' )\n",
    "for list in json_data['sites']:\n",
    "    print (list['name'])"
   ]
  },
  {
   "cell_type": "code",
   "execution_count": null,
   "metadata": {},
   "outputs": [],
   "source": []
  }
 ],
 "metadata": {
  "kernelspec": {
   "display_name": "Python 3",
   "language": "python",
   "name": "python3"
  },
  "language_info": {
   "codemirror_mode": {
    "name": "ipython",
    "version": 3
   },
   "file_extension": ".py",
   "mimetype": "text/x-python",
   "name": "python",
   "nbconvert_exporter": "python",
   "pygments_lexer": "ipython3",
   "version": "3.7.3"
  }
 },
 "nbformat": 4,
 "nbformat_minor": 4
}
